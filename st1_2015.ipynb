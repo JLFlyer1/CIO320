{
 "cells": [
  {
   "cell_type": "markdown",
   "metadata": {},
   "source": [
    "# CIO321 Chemical Engineering Design 321 St1 2015\n",
    "\n",
    "<img src=\"sketch.png\"/>\n",
    "\n",
    "A young engineer designed and implemented a double pipe type heat exchanger to heat a reaction gas with hot water (see diagram). The flow is counter current with the hot water flowing in the centre pipe and the gas in the annulus. The reaction gas used is propane vapour. The double pipe is $L$ = 6 m long, with the inner pipe radius $r_1$ = 25 mm, outer pipe radius $r_2$ = 45 mm and covered with excellent insulation with $r_3$ = 65 mm. Assume all pipe wall thicknesses to be negligible (very thin) and are hydrodynamic smooth.\n",
    "The inlet temperature of the hot water is $T_{i,w} = 75~°C$ with a flowrate of $\\dot{m}_w$ = 4 kg/hr. The propane must be heated from $T_{i,p}$ = 15 °C to $T_{e,p}$ = 65 °C.\n",
    "\n",
    "**Hints:** Use the most accurate correlations for your calculations. Iterate if needed.\n"
   ]
  },
  {
   "cell_type": "markdown",
   "metadata": {},
   "source": [
    "$\\LaTeX$ tip: you can use the following to make units a bit nicer: $\\newcommand{\\si}[2]{#1~\\mathrm{#2}}$\n",
    "\n",
    "This is a test:\n",
    "$C_p = \\si{4}{kg/m^2}$"
   ]
  },
  {
   "cell_type": "markdown",
   "metadata": {},
   "source": [
    "Questions\n",
    "---------\n",
    "\n",
    "1. List all your assumptions.\n",
    "2. Calculate the convective heat transfer coefficient ($h_w$) for the hot water. [15]\n",
    "3. Using the assumptions and calculations in Question 2 above, calculate the mass flowrate ($\\dot{m}_p$) of the propane vapour. [5]\n",
    "4. Calculate the inner surface convective heat transfer coefficient ($h_{i,p}$) for the propane vapour. [20]\n",
    "5. Using the convective heat transfer coefficients calculated in Question 2 and 4, calculate the exit temperature of the hot water ($T_{e,w}$) and the average surface temperature ($T_s$) of the pipe separating the fluids. Iterate if needed [10]\n",
    "6. Comment on the surface temperature ($T_s$). [5]"
   ]
  },
  {
   "cell_type": "markdown",
   "metadata": {},
   "source": [
    "## 1. List all your assumptions\n",
    "\n",
    "* Steady state\n",
    "* 1D heat transfer\n",
    "* Smooth tubes\n",
    "* Neglect conductivity in inner tube\n",
    " * $T_s$ is average surface temp in both\n",
    "* No heat losses to outside/environment\n",
    "* Outer wall of annulus is adiabetic\n",
    "* Inner wall not at a constant $T_s$ $\\therefore$ use constant $\\dot{q}_s$\n",
    "* $75 °C \\geq  T_{w,e} \\geq T_{p,i} = 15 °C$ "
   ]
  },
  {
   "cell_type": "code",
   "execution_count": 2,
   "metadata": {
    "collapsed": true
   },
   "outputs": [],
   "source": [
    "r_1 = 25  # mm\n",
    "r_2 = 45  # mm\n",
    "r_3 = 65  # mm\n",
    "\n",
    "D_1 = 2*r_1/1000  # m\n",
    "D_2 = 2*r_2/1000  # m\n",
    "D_3 = 2*r_3/1000  # m\n",
    "\n",
    "T_iw = 75  # °C\n",
    "mdot_w = 4  # kg/hr\n",
    "T_ip = 15  # °C\n",
    "T_ep = 65  # °C"
   ]
  },
  {
   "cell_type": "markdown",
   "metadata": {},
   "source": [
    "## 2. Calculate the convective heat transfer coefficient for the hot water."
   ]
  },
  {
   "cell_type": "code",
   "execution_count": 24,
   "metadata": {
    "collapsed": true
   },
   "outputs": [],
   "source": [
    "import numpy\n",
    "from scipy.interpolate import interp1d"
   ]
  },
  {
   "cell_type": "markdown",
   "metadata": {},
   "source": [
    "### Set up interpolation functions for properties\n",
    "#### Water"
   ]
  },
  {
   "cell_type": "code",
   "execution_count": 25,
   "metadata": {
    "collapsed": false
   },
   "outputs": [],
   "source": [
    "rho_w = interp1d([45, 50, 55, 75], [990, 988.1, 985.2, 974.7])  # kg/m3\n",
    "interpT = [45, 50, 55]  # °C\n",
    "mu_w = interp1d(interpT, [5.96E-04, 5.47E-04, 5.04E-04])  # kg/(m.s)\n",
    "Cp_w = interp1d(interpT, [4180., 4181., 4183,])  # J/(kg.K)\n",
    "k_w = interp1d(interpT, [0.637, 0.644, 0.644])  # W/(m.K)"
   ]
  },
  {
   "cell_type": "markdown",
   "metadata": {},
   "source": [
    "### Propane\n",
    "\n",
    "**Note** these are all the same, as for 40 °C"
   ]
  },
  {
   "cell_type": "code",
   "execution_count": 26,
   "metadata": {
    "collapsed": false
   },
   "outputs": [],
   "source": [
    "rho_p = interp1d([40, 45, 50], [30.29, 30.29, 30.29])  # kg/m3\n",
    "interpT = [40, 45, 50]  # °C\n",
    "mu_p = interp1d(interpT, [9.42E-06, 9.42E-06, 9.42E-06])  # kg/(m.s)\n",
    "Cp_p = interp1d(interpT, [2264, 2264, 2264])  # J/(kg.K)\n",
    "k_p = interp1d(interpT, [0.02142, 0.02142, 0.02142])  # W/(m.K)"
   ]
  },
  {
   "cell_type": "code",
   "execution_count": 27,
   "metadata": {
    "collapsed": true
   },
   "outputs": [],
   "source": [
    "T = 40"
   ]
  },
  {
   "cell_type": "code",
   "execution_count": 28,
   "metadata": {
    "collapsed": false
   },
   "outputs": [
    {
     "data": {
      "text/plain": [
       "array(30.29)"
      ]
     },
     "execution_count": 28,
     "metadata": {},
     "output_type": "execute_result"
    }
   ],
   "source": [
    "rho_p(T)"
   ]
  },
  {
   "cell_type": "code",
   "execution_count": 29,
   "metadata": {
    "collapsed": false
   },
   "outputs": [
    {
     "data": {
      "text/plain": [
       "array(9.42e-06)"
      ]
     },
     "execution_count": 29,
     "metadata": {},
     "output_type": "execute_result"
    }
   ],
   "source": [
    "mu_p(T)"
   ]
  },
  {
   "cell_type": "code",
   "execution_count": 30,
   "metadata": {
    "collapsed": false
   },
   "outputs": [
    {
     "data": {
      "text/plain": [
       "array(2264.0)"
      ]
     },
     "execution_count": 30,
     "metadata": {},
     "output_type": "execute_result"
    }
   ],
   "source": [
    "Cp_p(T)"
   ]
  },
  {
   "cell_type": "code",
   "execution_count": 31,
   "metadata": {
    "collapsed": false
   },
   "outputs": [
    {
     "data": {
      "text/plain": [
       "array(0.02142)"
      ]
     },
     "execution_count": 31,
     "metadata": {},
     "output_type": "execute_result"
    }
   ],
   "source": [
    "k_p(T)"
   ]
  },
  {
   "cell_type": "code",
   "execution_count": 32,
   "metadata": {
    "collapsed": true
   },
   "outputs": [],
   "source": [
    "def Pr_p(T):\n",
    "    return mu_p(T)*Cp_p(T)/k_p(T)"
   ]
  },
  {
   "cell_type": "code",
   "execution_count": 33,
   "metadata": {
    "collapsed": false
   },
   "outputs": [
    {
     "data": {
      "text/plain": [
       "0.99565266106442563"
      ]
     },
     "execution_count": 33,
     "metadata": {},
     "output_type": "execute_result"
    }
   ],
   "source": [
    "Pr_p(45)"
   ]
  },
  {
   "cell_type": "code",
   "execution_count": 34,
   "metadata": {
    "collapsed": false
   },
   "outputs": [
    {
     "data": {
      "text/plain": [
       "0.0012566370614359168"
      ]
     },
     "execution_count": 34,
     "metadata": {},
     "output_type": "execute_result"
    }
   ],
   "source": [
    "A_p = numpy.pi*(D_2 - D_1)**2/4\n",
    "A_p"
   ]
  },
  {
   "cell_type": "markdown",
   "metadata": {},
   "source": [
    "** THIS IS AS FAR AS I HAVE COME ** below this, the code is not yet working."
   ]
  },
  {
   "cell_type": "code",
   "execution_count": 36,
   "metadata": {
    "collapsed": false
   },
   "outputs": [
    {
     "ename": "NameError",
     "evalue": "name 'mdot_p' is not defined",
     "output_type": "error",
     "traceback": [
      "\u001b[0;31m---------------------------------------------------------------------------\u001b[0m",
      "\u001b[0;31mNameError\u001b[0m                                 Traceback (most recent call last)",
      "\u001b[0;32m<ipython-input-36-502956e48d9d>\u001b[0m in \u001b[0;36m<module>\u001b[0;34m()\u001b[0m\n\u001b[1;32m      1\u001b[0m \u001b[0;32mdef\u001b[0m \u001b[0mV_p\u001b[0m\u001b[0;34m(\u001b[0m\u001b[0mT\u001b[0m\u001b[0;34m)\u001b[0m\u001b[0;34m:\u001b[0m\u001b[0;34m\u001b[0m\u001b[0m\n\u001b[1;32m      2\u001b[0m     \u001b[0;32mreturn\u001b[0m \u001b[0mmdot_p\u001b[0m\u001b[0;34m/\u001b[0m\u001b[0;34m(\u001b[0m\u001b[0;36m3600\u001b[0m\u001b[0;34m*\u001b[0m\u001b[0mrho_p\u001b[0m\u001b[0;34m(\u001b[0m\u001b[0mT\u001b[0m\u001b[0;34m)\u001b[0m\u001b[0;34m*\u001b[0m\u001b[0mA_p\u001b[0m\u001b[0;34m)\u001b[0m\u001b[0;34m\u001b[0m\u001b[0m\n\u001b[0;32m----> 3\u001b[0;31m \u001b[0mV_p\u001b[0m\u001b[0;34m(\u001b[0m\u001b[0mT\u001b[0m\u001b[0;34m)\u001b[0m\u001b[0;34m\u001b[0m\u001b[0m\n\u001b[0m",
      "\u001b[0;32m<ipython-input-36-502956e48d9d>\u001b[0m in \u001b[0;36mV_p\u001b[0;34m(T)\u001b[0m\n\u001b[1;32m      1\u001b[0m \u001b[0;32mdef\u001b[0m \u001b[0mV_p\u001b[0m\u001b[0;34m(\u001b[0m\u001b[0mT\u001b[0m\u001b[0;34m)\u001b[0m\u001b[0;34m:\u001b[0m\u001b[0;34m\u001b[0m\u001b[0m\n\u001b[0;32m----> 2\u001b[0;31m     \u001b[0;32mreturn\u001b[0m \u001b[0mmdot_p\u001b[0m\u001b[0;34m/\u001b[0m\u001b[0;34m(\u001b[0m\u001b[0;36m3600\u001b[0m\u001b[0;34m*\u001b[0m\u001b[0mrho_p\u001b[0m\u001b[0;34m(\u001b[0m\u001b[0mT\u001b[0m\u001b[0;34m)\u001b[0m\u001b[0;34m*\u001b[0m\u001b[0mA_p\u001b[0m\u001b[0;34m)\u001b[0m\u001b[0;34m\u001b[0m\u001b[0m\n\u001b[0m\u001b[1;32m      3\u001b[0m \u001b[0mV_p\u001b[0m\u001b[0;34m(\u001b[0m\u001b[0mT\u001b[0m\u001b[0;34m)\u001b[0m\u001b[0;34m\u001b[0m\u001b[0m\n",
      "\u001b[0;31mNameError\u001b[0m: name 'mdot_p' is not defined"
     ]
    }
   ],
   "source": [
    "def V_p(T):\n",
    "    return mdot_p/(3600*rho_p(T)*A_p)\n",
    "V_p(T)"
   ]
  },
  {
   "cell_type": "code",
   "execution_count": 35,
   "metadata": {
    "collapsed": false
   },
   "outputs": [
    {
     "data": {
      "text/plain": [
       "47.473510243667519"
      ]
     },
     "execution_count": 35,
     "metadata": {},
     "output_type": "execute_result"
    }
   ],
   "source": [
    "def Re_w(T):\n",
    "    return rho_w(T)*V_w(T)*D_1/mu_w(T)\n",
    "Re_w(45)"
   ]
  },
  {
   "cell_type": "code",
   "execution_count": 36,
   "metadata": {
    "collapsed": false
   },
   "outputs": [
    {
     "data": {
      "text/plain": [
       "0.11868377560916882"
      ]
     },
     "execution_count": 36,
     "metadata": {},
     "output_type": "execute_result"
    }
   ],
   "source": [
    "def L_hw(T):\n",
    "    return 0.05*Re_w(T)*D_1\n",
    "L_hw(45)"
   ]
  },
  {
   "cell_type": "code",
   "execution_count": 39,
   "metadata": {
    "collapsed": false
   },
   "outputs": [
    {
     "data": {
      "text/plain": [
       "0.46416721585496085"
      ]
     },
     "execution_count": 39,
     "metadata": {},
     "output_type": "execute_result"
    }
   ],
   "source": [
    "def L_tw(T):\n",
    "    return L_hw(T)*Pr_w(T)\n",
    "L_tw(45)"
   ]
  },
  {
   "cell_type": "code",
   "execution_count": null,
   "metadata": {
    "collapsed": true
   },
   "outputs": [],
   "source": [
    "def Nu_w(T):\n",
    "    return "
   ]
  },
  {
   "cell_type": "markdown",
   "metadata": {
    "collapsed": true
   },
   "source": [
    "Alternative solution using CoolProp\n",
    "-----------------------------------"
   ]
  },
  {
   "cell_type": "code",
   "execution_count": 22,
   "metadata": {
    "collapsed": false
   },
   "outputs": [],
   "source": [
    "import CoolProp.CoolProp as CP"
   ]
  },
  {
   "cell_type": "code",
   "execution_count": 23,
   "metadata": {
    "collapsed": true
   },
   "outputs": [],
   "source": [
    "P = 101325\n",
    "T = 45"
   ]
  },
  {
   "cell_type": "code",
   "execution_count": 24,
   "metadata": {
    "collapsed": false
   },
   "outputs": [
    {
     "data": {
      "text/plain": [
       "1748.188817839408"
      ]
     },
     "execution_count": 24,
     "metadata": {},
     "output_type": "execute_result"
    }
   ],
   "source": [
    "CP.PropsSI('C', 'P', P ,'T', 40 + 273.15, 'n-Propane')"
   ]
  }
 ],
 "metadata": {
  "kernelspec": {
   "display_name": "Python 3",
   "language": "python",
   "name": "python3"
  },
  "language_info": {
   "codemirror_mode": {
    "name": "ipython",
    "version": 3
   },
   "file_extension": ".py",
   "mimetype": "text/x-python",
   "name": "python",
   "nbconvert_exporter": "python",
   "pygments_lexer": "ipython3",
   "version": "3.5.2"
  }
 },
 "nbformat": 4,
 "nbformat_minor": 0
}
